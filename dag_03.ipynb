{
 "cells": [
  {
   "cell_type": "code",
   "execution_count": 1,
   "id": "a1e141bd",
   "metadata": {},
   "outputs": [],
   "source": [
    "from golem_model_01 import GolemModel\n",
    "from golem_utils.train import postprocess\n",
    "from golem_utils.utils import set_seed\n",
    "from golem_utils import MetricsDAG\n",
    "from golem_utils import GraphDAG\n",
    "from golem_utils import BaseLearner, Tensor\n",
    "import logging\n",
    "\n",
    "import igraph as ig\n",
    "import networkx as nx\n",
    "import numpy as np\n",
    "import time\n",
    "from golem_utils.utils import is_dag"
   ]
  },
  {
   "cell_type": "code",
   "execution_count": 2,
   "id": "d3b8c2f0",
   "metadata": {},
   "outputs": [],
   "source": [
    "from DAG_GOLEM.golem import GOLEM as GM"
   ]
  },
  {
   "cell_type": "code",
   "execution_count": 3,
   "id": "7a0cb7f0",
   "metadata": {},
   "outputs": [
    {
     "name": "stderr",
     "output_type": "stream",
     "text": [
      "/home/klea.ziu/.conda/envs/OCM/lib/python3.9/site-packages/scipy/__init__.py:146: UserWarning: A NumPy version >=1.16.5 and <1.23.0 is required for this version of SciPy (detected version 1.23.4\n",
      "  warnings.warn(f\"A NumPy version >={np_minversion} and <{np_maxversion}\"\n"
     ]
    }
   ],
   "source": [
    "from datasets import DAG, IIDSimulation"
   ]
  },
  {
   "cell_type": "code",
   "execution_count": 4,
   "id": "37d9db7c",
   "metadata": {},
   "outputs": [],
   "source": [
    "import torch\n",
    "import torch.nn as nn"
   ]
  },
  {
   "cell_type": "code",
   "execution_count": 5,
   "id": "4da5d0b8",
   "metadata": {},
   "outputs": [],
   "source": [
    "class SyntheticDataset:\n",
    "    \"\"\"Generate synthetic data.\n",
    "\n",
    "    Key instance variables:\n",
    "        X (numpy.ndarray): [n, d] data matrix.\n",
    "        B (numpy.ndarray): [d, d] weighted adjacency matrix of DAG.\n",
    "        B_bin (numpy.ndarray): [d, d] binary adjacency matrix of DAG.\n",
    "\n",
    "    Code modified from:\n",
    "        https://github.com/xunzheng/notears/blob/master/notears/utils.py\n",
    "    \"\"\"\n",
    "    _logger = logging.getLogger(__name__)\n",
    "\n",
    "    def __init__(self, n, d, graph_type, degree, noise_type, B_scale,hd:bool = False, seed=1):\n",
    "        \"\"\"Initialize self.\n",
    "\n",
    "        Args:\n",
    "            n (int): Number of samples.\n",
    "            d (int): Number of nodes.\n",
    "            graph_type ('ER' or 'SF'): Type of graph.\n",
    "            degree (int): Degree of graph.\n",
    "            noise_type ('gaussian_ev', 'gaussian_nv', 'exponential', 'gumbel'): Type of noise.\n",
    "            B_scale (float): Scaling factor for range of B.\n",
    "            seed (int): Random seed. Default: 1.\n",
    "        \"\"\"\n",
    "        self.n = n\n",
    "        self.d = d\n",
    "        self.graph_type = graph_type\n",
    "        self.degree = degree\n",
    "        self.noise_type = noise_type\n",
    "        self.B_ranges = ((B_scale * -2.0, B_scale * -0.5),\n",
    "                         (B_scale * 0.5, B_scale * 2.0))\n",
    "        self.rs = np.random.RandomState(seed)    # Reproducibility\n",
    "        self.hd = hd\n",
    "\n",
    "        self._setup()\n",
    "        self._logger.debug(\"Finished setting up dataset class.\")\n",
    "\n",
    "    def _setup(self):\n",
    "        \"\"\"Generate B_bin, B and X.\"\"\"\n",
    "        self.B_bin = SyntheticDataset.simulate_random_dag(self.d, self.degree,\n",
    "                                                          self.graph_type, self.rs)\n",
    "        self.B = SyntheticDataset.simulate_weight(self.B_bin, self.B_ranges, self.hd,self.rs)\n",
    "        \n",
    "        self.X = SyntheticDataset.simulate_linear_sem(self.B, self.n, self.noise_type, self.rs)\n",
    "        assert is_dag(self.B)\n",
    "\n",
    "    @staticmethod\n",
    "    def simulate_er_dag(d, degree, rs=np.random.RandomState(1)):\n",
    "        \"\"\"Simulate ER DAG using NetworkX package.\n",
    "\n",
    "        Args:\n",
    "            d (int): Number of nodes.\n",
    "            degree (int): Degree of graph.\n",
    "            rs (numpy.random.RandomState): Random number generator.\n",
    "                Default: np.random.RandomState(1).\n",
    "\n",
    "        Returns:\n",
    "            numpy.ndarray: [d, d] binary adjacency matrix of DAG.\n",
    "        \"\"\"\n",
    "        def _get_acyclic_graph(B_und):\n",
    "            return np.tril(B_und, k=-1)\n",
    "\n",
    "        def _graph_to_adjmat(G):\n",
    "            return nx.to_numpy_matrix(G)\n",
    "\n",
    "        p = float(degree) / (d - 1)\n",
    "        G_und = nx.generators.erdos_renyi_graph(n=d, p=p, seed=rs)\n",
    "        B_und_bin = _graph_to_adjmat(G_und)    # Undirected\n",
    "        B_bin = _get_acyclic_graph(B_und_bin)\n",
    "        return B_bin\n",
    "\n",
    "    @staticmethod\n",
    "    def simulate_sf_dag(d, degree):\n",
    "        \"\"\"Simulate ER DAG using igraph package.\n",
    "\n",
    "        Args:\n",
    "            d (int): Number of nodes.\n",
    "            degree (int): Degree of graph.\n",
    "\n",
    "        Returns:\n",
    "            numpy.ndarray: [d, d] binary adjacency matrix of DAG.\n",
    "        \"\"\"\n",
    "        def _graph_to_adjmat(G):\n",
    "            return np.array(G.get_adjacency().data)\n",
    "\n",
    "        m = int(round(degree / 2))\n",
    "        # igraph does not allow passing RandomState object\n",
    "        G = ig.Graph.Barabasi(n=d, m=m, directed=True)\n",
    "        B_bin = np.array(G.get_adjacency().data)\n",
    "        return B_bin\n",
    "\n",
    "    @staticmethod\n",
    "    def simulate_random_dag(d, degree, graph_type, rs=np.random.RandomState(1)):\n",
    "        \"\"\"Simulate random DAG.\n",
    "\n",
    "        Args:\n",
    "            d (int): Number of nodes.\n",
    "            degree (int): Degree of graph.\n",
    "            graph_type ('ER' or 'SF'): Type of graph.\n",
    "            rs (numpy.random.RandomState): Random number generator.\n",
    "                Default: np.random.RandomState(1).\n",
    "\n",
    "        Returns:\n",
    "            numpy.ndarray: [d, d] binary adjacency matrix of DAG.\n",
    "        \"\"\"\n",
    "        def _random_permutation(B_bin):\n",
    "            # np.random.permutation permutes first axis only\n",
    "            P = rs.permutation(np.eye(B_bin.shape[0]))\n",
    "            return P.T @ B_bin @ P\n",
    "\n",
    "        if graph_type == 'ER':\n",
    "            B_bin = SyntheticDataset.simulate_er_dag(d, degree, rs)\n",
    "        elif graph_type == 'SF':\n",
    "            B_bin = SyntheticDataset.simulate_sf_dag(d, degree)\n",
    "        else:\n",
    "            raise ValueError(\"Unknown graph type.\")\n",
    "        return _random_permutation(B_bin)\n",
    "\n",
    "    @staticmethod\n",
    "    def simulate_weight(B_bin, B_ranges, hd, rs=np.random.RandomState(1)):\n",
    "        \"\"\"Simulate the weights of B_bin.\n",
    "\n",
    "        Args:\n",
    "            B_bin (numpy.ndarray): [d, d] binary adjacency matrix of DAG.\n",
    "            B_ranges (tuple): Disjoint weight ranges.\n",
    "            rs (numpy.random.RandomState): Random number generator.\n",
    "                Default: np.random.RandomState(1).\n",
    "\n",
    "        Returns:\n",
    "            numpy.ndarray: [d, d] weighted adjacency matrix of DAG.\n",
    "        \"\"\"\n",
    "        B = np.zeros(B_bin.shape)\n",
    "        S = rs.randint(len(B_ranges), size=B.shape)  # Which range\n",
    "        for i, (low, high) in enumerate(B_ranges):\n",
    "            if hd == True:\n",
    "                \n",
    "                if np.random.rand(1) > 0.5:\n",
    "                    #the same as before\n",
    "                    U = rs.uniform(low=low, high=high, size=B.shape)\n",
    "                else:\n",
    "                    U_0 = rs.uniform(low=-3, high=-1, size=B.shape)\n",
    "                    U =   rs.uniform(low=low, high=high, size=B.shape)*np.exp(U_0)\n",
    "                B += B_bin * (S == i) * U\n",
    "                \n",
    "            else:\n",
    "                U = rs.uniform(low=low, high=high, size=B.shape)\n",
    "                B += B_bin * (S == i) * U\n",
    "      \n",
    "        return B\n",
    "\n",
    "    @staticmethod\n",
    "    def simulate_linear_sem(B, n, noise_type, rs=np.random.RandomState(1)):\n",
    "        \"\"\"Simulate samples from linear SEM with specified type of noise.\n",
    "\n",
    "        Args:\n",
    "            B (numpy.ndarray): [d, d] weighted adjacency matrix of DAG.\n",
    "            n (int): Number of samples.\n",
    "            noise_type ('gaussian_ev', 'gaussian_nv', 'exponential', 'gumbel'): Type of noise.\n",
    "            rs (numpy.random.RandomState): Random number generator.\n",
    "                Default: np.random.RandomState(1).\n",
    "\n",
    "        Returns:\n",
    "            numpy.ndarray: [n, d] data matrix.\n",
    "        \"\"\"\n",
    "        def _simulate_single_equation(X, B_i):\n",
    "            \"\"\"Simulate samples from linear SEM for the i-th node.\n",
    "\n",
    "            Args:\n",
    "                X (numpy.ndarray): [n, number of parents] data matrix.\n",
    "                B_i (numpy.ndarray): [d,] weighted vector for the i-th node.\n",
    "\n",
    "            Returns:\n",
    "                numpy.ndarray: [n,] data matrix.\n",
    "            \"\"\"\n",
    "            if noise_type == 'gaussian_ev':\n",
    "                # Gaussian noise with equal variances\n",
    "                N_i = rs.normal(scale=1.0, size=n)\n",
    "            elif noise_type == 'gaussian_nv':\n",
    "                # Gaussian noise with non-equal variances\n",
    "                scale = rs.uniform(low=1.0, high=2.0)\n",
    "                N_i = rs.normal(scale=scale, size=n)\n",
    "            elif noise_type == 'exponential':\n",
    "                # Exponential noise\n",
    "                N_i = rs.exponential(scale=1.0, size=n)\n",
    "            elif noise_type == 'gumbel':\n",
    "                # Gumbel noise\n",
    "                N_i = rs.gumbel(scale=1.0, size=n)\n",
    "            else:\n",
    "                raise ValueError(\"Unknown noise type.\")\n",
    "            return X @ B_i + N_i\n",
    "\n",
    "        d = B.shape[0]\n",
    "        X = np.zeros([n, d])\n",
    "        G = nx.DiGraph(B)\n",
    "        ordered_vertices = list(nx.topological_sort(G))\n",
    "        assert len(ordered_vertices) == d\n",
    "        for i in ordered_vertices:\n",
    "            parents = list(G.predecessors(i))\n",
    "            X[:, i] = _simulate_single_equation(X[:, parents], B[parents, i])\n",
    "\n",
    "        return X\n",
    "\n",
    "\n"
   ]
  },
  {
   "cell_type": "code",
   "execution_count": 6,
   "id": "b095d234",
   "metadata": {},
   "outputs": [],
   "source": [
    "class GOLEM(BaseLearner):\n",
    "    \"\"\"\n",
    "    GOLEM Algorithm.\n",
    "    A more efficient version of NOTEARS that can reduce number of optimization iterations.\n",
    "\n",
    "    Paramaters\n",
    "    ----------\n",
    "    B_init: None\n",
    "        File of weighted matrix for initialization. Set to None to disable.\n",
    "    lambda_1: float\n",
    "        Coefficient of L1 penalty.\n",
    "    lambda_2: float\n",
    "        Coefficient of DAG penalty.\n",
    "    equal_variances: bool\n",
    "        Assume equal noise variances for likelibood objective.\n",
    "    non_equal_variances: bool\n",
    "        Assume non-equal noise variances for likelibood objective.\n",
    "    learning_rate: float\n",
    "        Learning rate of Adam optimizer.\n",
    "    num_iter: float\n",
    "        Number of iterations for training.\n",
    "    checkpoint_iter: int\n",
    "        Number of iterations between each checkpoint. Set to None to disable.\n",
    "    seed: int\n",
    "        Random seed.\n",
    "    graph_thres: float\n",
    "        Threshold for weighted matrix.\n",
    "    device_type: bool\n",
    "        whether to use GPU or not\n",
    "    device_ids: int\n",
    "        choose which gpu to use\n",
    "\n",
    "    Attributes\n",
    "    ----------\n",
    "    causal_matrix : numpy.ndarray\n",
    "        Learned causal structure matrix\n",
    "\n",
    "    References\n",
    "    ----------\n",
    "    https://arxiv.org/abs/2006.10201\n",
    "    \n",
    "    Examples\n",
    "    --------\n",
    "    >>> from castle.algorithms import GOLEM\n",
    "    >>> from castle.datasets import load_dataset\n",
    "    >>> from castle.common import GraphDAG\n",
    "    >>> from castle.metrics import MetricsDAG\n",
    "    >>> X, true_dag, topology_matrix = load_dataset(name='IID_Test')\n",
    "    >>> n = GOLEM()\n",
    "    >>> n.learn(X)\n",
    "    >>> GraphDAG(n.causal_matrix, true_dag)\n",
    "    >>> met = MetricsDAG(n.causal_matrix, true_dag)\n",
    "    >>> print(met.metrics)\n",
    "    \"\"\"\n",
    "    \n",
    "    def __init__(self, B_init=None,\n",
    "                 lambda_1=2e-2,\n",
    "                 lambda_2=5.0,\n",
    "                 l1 = 0.05,\n",
    "                 l1_q = 0.5,\n",
    "                 equal_variances=True,\n",
    "                 non_equal_variances=True,\n",
    "                 learning_rate=1e-3,\n",
    "                 num_iter=1e+5,\n",
    "                 checkpoint_iter=5000,\n",
    "                 seed=1,\n",
    "                 graph_thres=0.3,\n",
    "                 device_type='cpu',\n",
    "                 device_ids=0):\n",
    "\n",
    "        super().__init__()\n",
    "\n",
    "        self.B_init = B_init\n",
    "        self.lambda_1 = lambda_1\n",
    "        self.lambda_2 = lambda_2\n",
    "        self.l1 = l1\n",
    "        self.l1_quad = l1_q\n",
    "        self.equal_variances = equal_variances\n",
    "        self.non_equal_variances = non_equal_variances\n",
    "        self.learning_rate = learning_rate\n",
    "        self.num_iter = num_iter\n",
    "        self.checkpoint_iter = checkpoint_iter\n",
    "        self.seed = seed\n",
    "        self.graph_thres = graph_thres\n",
    "        self.device_type = device_type\n",
    "        self.device_ids = device_ids\n",
    "\n",
    "        if torch.cuda.is_available():\n",
    "            print('GPU is available.')\n",
    "        else:\n",
    "            print('GPU is unavailable.')\n",
    "            if self.device_type == 'gpu':\n",
    "                raise ValueError(\"GPU is unavailable, \"\n",
    "                                 \"please set device_type = 'cpu'.\")\n",
    "        if self.device_type == 'gpu':\n",
    "            if self.device_ids:\n",
    "                os.environ['CUDA_VISIBLE_DEVICES'] = str(self.device_ids)\n",
    "            device = torch.device('cuda')\n",
    "        else:\n",
    "            device = torch.device('cpu')\n",
    "        self.device = device\n",
    "        \n",
    "\n",
    "    def learn(self, data, columns=None, **kwargs):\n",
    "        \"\"\"\n",
    "        Set up and run the GOLEM algorithm.\n",
    "\n",
    "        Parameters\n",
    "        ----------\n",
    "        data: castle.Tensor or numpy.ndarray\n",
    "            The castle.Tensor or numpy.ndarray format data you want to learn.\n",
    "        X: numpy.ndarray\n",
    "            [n, d] data matrix.\n",
    "        columns : Index or array-like\n",
    "            Column labels to use for resulting tensor. Will default to\n",
    "            RangeIndex (0, 1, 2, ..., n) if no column labels are provided.\n",
    "        lambda_1: float\n",
    "            Coefficient of L1 penalty.\n",
    "        lambda_2: float\n",
    "            Coefficient of DAG penalty.\n",
    "        equal_variances: bool\n",
    "            Whether to assume equal noise variances\n",
    "            for likelibood objective. Default: True.\n",
    "        num_iter:int\n",
    "            Number of iterations for training.\n",
    "        learning_rate: float\n",
    "            Learning rate of Adam optimizer. Default: 1e-3.\n",
    "        seed: int\n",
    "            Random seed. Default: 1.\n",
    "        checkpoint_iter: int\n",
    "            Number of iterations between each checkpoint.\n",
    "            Set to None to disable. Default: None.\n",
    "        B_init: numpy.ndarray or None\n",
    "            [d, d] weighted matrix for initialization.\n",
    "            Set to None to disable. Default: None.\n",
    "        \"\"\"\n",
    "\n",
    "        X = Tensor(data, columns=columns)\n",
    "        \n",
    "        causal_matrix = self._golem(X)\n",
    "        self.causal_matrix = Tensor(causal_matrix, index=X.columns,\n",
    "                                    columns=X.columns)\n",
    "\n",
    "    def _golem(self, X):\n",
    "        \"\"\"\n",
    "        Solve the unconstrained optimization problem of GOLEM, which involves\n",
    "        GolemModel and GolemTrainer.\n",
    "\n",
    "        Parameters\n",
    "        ----------\n",
    "        X: numpy.ndarray\n",
    "            [n, d] data matrix.\n",
    "        \n",
    "        Return\n",
    "        ------\n",
    "        B_result: np.ndarray\n",
    "            [d, d] estimated weighted matrix.\n",
    "        \n",
    "        Hyperparameters\n",
    "        ---------------\n",
    "        (1) GOLEM-NV: equal_variances=False, lambda_1=2e-3, lambda_2=5.0.\n",
    "        (2) GOLEM-EV: equal_variances=True, lambda_1=2e-2, lambda_2=5.0.\n",
    "        \"\"\"\n",
    "        set_seed(self.seed)\n",
    "        n, d = X.shape\n",
    "        X = torch.Tensor(X).to(self.device)\n",
    "\n",
    "        #Set up model\n",
    "        model = GolemModel(n=n, d=d, lambda_1=self.lambda_1,\n",
    "                           lambda_2=self.lambda_2, l1 = self.l1, l1_quad = self.l1_quad,\n",
    "                           equal_variances=self.equal_variances,\n",
    "                           B_init=self.B_init,\n",
    "                           device=self.device)\n",
    "\n",
    "        self.train_op = torch.optim.Adam(model.parameters(), lr=0.001)\n",
    "\n",
    "        print(\"Started training for {} iterations.\".format(int(self.num_iter)))\n",
    "        for i in range(0, int(self.num_iter) + 1):\n",
    "            model(X)\n",
    "            score, likelihood, quad, h, B_est = model.score, model.likelihood, model.quad, model.h, model.B\n",
    "            \n",
    "            if i > 0:  #Do not train here, only perform evaluation\n",
    "                #Optimizer\n",
    "                self.loss = score \n",
    "                self.train_op.zero_grad()\n",
    "                self.loss.backward()\n",
    "                self.train_op.step()\n",
    "\n",
    "            #do thresholding\n",
    "            if i%500 == 0 :\n",
    "                model(X)\n",
    "                score, likelihood, quad, h, B_est = model.score, model.likelihood, model.quad, model.h, model.B\n",
    "                with torch.no_grad():\n",
    "                    B_processed = postprocess(B_est.cpu().detach().numpy(), graph_thres=0.001)\n",
    "\n",
    "                    for p in model.parameters():\n",
    "                        p.zero_().add_(torch.tensor(B_processed))\n",
    "\n",
    "                    print(\"[Before thresholding] score={:.3f}, likelihood={:.3f}, h={:.1e}, quad = {:.3f}\".format( \\\n",
    "                 score, likelihood, h,quad))\n",
    "                    model(X)\n",
    "                    score, likelihood,quad, h, B_est = model.score, model.likelihood, model.quad, model.h, model.B\n",
    "                    #print(B_est)\n",
    "                    print(\"[Iter {}] score={:.3f}, likelihood={:.3f}, h={:.1e}, quad = {:.3f}\".format( \\\n",
    "                        i, score, likelihood, h,quad))\n",
    "\n",
    "        #Post-process estimated solution and compute results\n",
    "        #B_processed = postprocess(B_est.cpu().detach().numpy(), graph_thres=0.3)\n",
    "        \n",
    "        with torch.no_grad():\n",
    "            B_processed = postprocess(B_est.cpu().detach().numpy(), graph_thres=0.07)\n",
    "            for p in model.parameters():\n",
    "                        p.zero_().add_(torch.tensor(B_processed))\n",
    "            model(X)\n",
    "            score, likelihood,quad, h, B_est = model.score, model.likelihood, model.quad, model.h, model.B\n",
    "            print('3',B_est)\n",
    "            print(\"[Iter {}] score={:.3f}, likelihood={:.3f}, h={:.1e}, quad = {:.3f}\".format( \\\n",
    "                    i, score, likelihood, h,quad))\n",
    "        B_result =(B_processed != 0).astype(int)\n",
    "        #B_processed = postprocess(B_est.cpu().detach().numpy(), graph_thres=0.03)\n",
    "        return B_est.cpu().detach().numpy() #B_processed"
   ]
  },
  {
   "cell_type": "code",
   "execution_count": 50,
   "id": "2ed463cc",
   "metadata": {},
   "outputs": [],
   "source": [
    "n, d =1000, 20\n",
    "graph_type, degree = 'ER', 2    # ER2 graph\n",
    "B_scale = 1.0\n",
    "noise_type = 'gaussian_ev'\n",
    "\n",
    "dataset = SyntheticDataset(n, d, graph_type, degree,\n",
    "                           noise_type, B_scale,hd = True, seed=1)\n"
   ]
  },
  {
   "cell_type": "code",
   "execution_count": 51,
   "id": "52fdcbbd",
   "metadata": {},
   "outputs": [
    {
     "name": "stdout",
     "output_type": "stream",
     "text": [
      "GPU is available.\n",
      "GPU is available.\n"
     ]
    }
   ],
   "source": [
    "g = GOLEM(num_iter=1e4)\n",
    "g1 = GM(num_iter=1e4)"
   ]
  },
  {
   "cell_type": "code",
   "execution_count": 52,
   "id": "c022b0ea",
   "metadata": {},
   "outputs": [],
   "source": [
    "true_dag, X = dataset.B, dataset.X"
   ]
  },
  {
   "cell_type": "code",
   "execution_count": 53,
   "id": "30739cc0",
   "metadata": {},
   "outputs": [
    {
     "data": {
      "text/plain": [
       "array([[ 0.        ,  0.        ,  0.        ,  0.        ,  0.        ,\n",
       "         0.        ,  0.        ,  0.        ,  0.        ,  0.        ,\n",
       "         0.        ,  0.        ,  0.        ,  0.        ,  0.        ,\n",
       "         0.        ,  0.        ,  0.        ,  0.        ,  0.        ],\n",
       "       [ 0.        ,  0.        ,  0.        ,  0.        ,  0.        ,\n",
       "         0.        ,  0.        ,  0.        ,  0.        ,  1.96131894,\n",
       "         0.        ,  0.        ,  0.        ,  0.        ,  0.        ,\n",
       "         0.        ,  0.        ,  0.        ,  0.        ,  0.        ],\n",
       "       [ 0.        ,  0.        ,  0.        ,  0.        ,  0.        ,\n",
       "         0.        ,  0.        ,  0.        ,  0.        ,  0.        ,\n",
       "         0.        ,  0.        ,  0.        ,  0.        ,  0.        ,\n",
       "         0.        ,  0.        ,  0.        ,  0.        ,  0.        ],\n",
       "       [ 0.        ,  0.        ,  0.        ,  0.        ,  0.        ,\n",
       "         0.        ,  0.        ,  0.        ,  0.        ,  0.        ,\n",
       "         0.        ,  0.        ,  0.        ,  0.        ,  0.        ,\n",
       "         0.        ,  0.        ,  0.        ,  0.        ,  0.        ],\n",
       "       [ 0.        ,  0.        ,  0.        ,  0.        ,  0.        ,\n",
       "         0.        , -0.23201726,  0.        , -0.16663199, -0.10577375,\n",
       "         0.        ,  0.        , -0.27184008,  0.        ,  0.        ,\n",
       "         0.        ,  0.        ,  0.        ,  0.        ,  0.        ],\n",
       "       [ 0.        ,  0.        ,  0.        ,  0.        ,  0.        ,\n",
       "         0.        ,  0.        ,  0.        ,  0.        ,  0.        ,\n",
       "         0.        ,  1.8886622 ,  0.        ,  0.        ,  0.        ,\n",
       "         0.        ,  0.        ,  0.        ,  0.        ,  0.        ],\n",
       "       [ 0.        ,  0.        ,  0.        ,  0.        ,  0.        ,\n",
       "         0.        ,  0.        ,  0.        ,  0.        ,  0.        ,\n",
       "         0.        ,  0.        ,  0.        ,  0.        ,  0.        ,\n",
       "         0.        ,  0.        ,  0.        ,  0.        ,  0.        ],\n",
       "       [ 0.        ,  0.        ,  1.39533279,  0.        ,  0.        ,\n",
       "         0.        ,  0.        ,  0.        , -0.42667807,  0.        ,\n",
       "         0.        ,  0.        ,  0.        ,  0.        ,  0.        ,\n",
       "         0.        ,  0.        ,  0.        ,  0.        ,  0.        ],\n",
       "       [ 0.        ,  0.        ,  0.        ,  0.        ,  0.        ,\n",
       "         0.        , -0.15617976,  0.        ,  0.        ,  0.61019998,\n",
       "         0.        ,  1.95773011,  0.        , -0.18004162,  0.        ,\n",
       "         0.        ,  0.        ,  0.        ,  0.        ,  0.        ],\n",
       "       [ 0.        ,  0.        ,  0.        ,  0.        ,  0.        ,\n",
       "         0.        ,  0.        ,  0.        ,  0.        ,  0.        ,\n",
       "         0.        ,  0.        ,  0.        ,  0.        ,  0.        ,\n",
       "         0.        ,  0.        ,  0.        ,  0.        ,  0.        ],\n",
       "       [ 0.        ,  0.        ,  0.        ,  0.        ,  0.        ,\n",
       "         0.        ,  1.29027781,  0.        ,  0.        ,  0.        ,\n",
       "         0.        ,  0.        , -0.11719545,  0.        ,  0.        ,\n",
       "         0.        ,  0.        , -0.22989088,  0.        ,  0.        ],\n",
       "       [ 0.        ,  0.        ,  0.        ,  0.        ,  0.        ,\n",
       "         0.        ,  0.        ,  0.        ,  0.        ,  0.        ,\n",
       "         0.        ,  0.        ,  0.        ,  0.        ,  0.        ,\n",
       "         0.        ,  0.        ,  0.        ,  0.        ,  0.        ],\n",
       "       [ 0.        ,  0.        ,  0.        ,  0.        ,  0.        ,\n",
       "         0.        ,  0.        ,  0.        ,  0.        ,  0.        ,\n",
       "         0.        ,  0.        ,  0.        ,  0.        ,  0.        ,\n",
       "         0.        ,  0.        ,  0.        ,  0.        ,  0.        ],\n",
       "       [ 0.        ,  0.        ,  0.57130639,  0.        ,  0.        ,\n",
       "         0.        ,  0.        ,  0.        ,  0.        ,  0.        ,\n",
       "         0.        ,  0.        ,  0.        ,  0.        ,  0.        ,\n",
       "         0.        ,  0.        ,  0.        ,  0.        ,  0.        ],\n",
       "       [ 0.        ,  0.        ,  0.        ,  0.        ,  0.        ,\n",
       "         0.        ,  0.        ,  0.        ,  0.        ,  0.        ,\n",
       "         0.        ,  0.        ,  0.        , -0.25461103,  0.        ,\n",
       "         0.        ,  0.        ,  0.        ,  1.49283255,  0.        ],\n",
       "       [-0.07749506,  0.        ,  0.        ,  0.        ,  0.        ,\n",
       "         0.        ,  0.86025831,  0.        ,  0.        ,  0.        ,\n",
       "         0.        ,  0.        ,  0.        ,  0.        ,  1.90272967,\n",
       "         0.        ,  0.        ,  0.        ,  0.        ,  0.        ],\n",
       "       [ 0.        ,  0.        ,  0.        ,  0.        ,  0.        ,\n",
       "         0.        ,  0.        ,  0.        ,  0.        ,  0.        ,\n",
       "         0.        ,  0.        ,  0.        ,  0.79389792,  0.        ,\n",
       "         0.        ,  0.        ,  0.        ,  0.        ,  0.        ],\n",
       "       [ 0.        ,  0.        ,  0.        ,  0.        ,  0.        ,\n",
       "         0.        ,  0.        ,  0.        ,  0.        ,  0.        ,\n",
       "         0.        ,  1.18074493,  0.        ,  0.        ,  0.        ,\n",
       "         0.        ,  0.        ,  0.        ,  0.        ,  0.        ],\n",
       "       [ 0.        ,  0.        , -0.22939676,  0.        ,  0.        ,\n",
       "         0.        ,  0.        ,  0.        ,  0.        ,  0.        ,\n",
       "         0.        ,  0.        ,  0.        ,  0.        ,  0.        ,\n",
       "         0.        ,  0.        ,  0.        ,  0.        ,  0.        ],\n",
       "       [ 0.        ,  0.        ,  0.        ,  0.        ,  0.        ,\n",
       "         0.        ,  0.        ,  1.61562379,  0.        ,  0.        ,\n",
       "         0.        ,  0.        ,  0.        ,  0.        ,  0.        ,\n",
       "         0.        ,  0.5015494 ,  1.21413368,  0.        ,  0.        ]])"
      ]
     },
     "execution_count": 53,
     "metadata": {},
     "output_type": "execute_result"
    }
   ],
   "source": [
    "true_dag"
   ]
  },
  {
   "cell_type": "code",
   "execution_count": 54,
   "id": "b5ef6359",
   "metadata": {},
   "outputs": [
    {
     "name": "stdout",
     "output_type": "stream",
     "text": [
      "Started training for 10000 iterations.\n",
      "[Before thresholding] score=111.400, likelihood=111.400, h=0.0e+00, quad = 1721.756\n",
      "[Iter 0] score=111.400, likelihood=111.400, h=0.0e+00, quad = 1721.756\n",
      "[Before thresholding] score=103.870, likelihood=102.827, h=1.1e-01, quad = 651.884\n",
      "[Iter 500] score=105.621, likelihood=104.745, h=0.0e+00, quad = 886.881\n",
      "[Before thresholding] score=101.677, likelihood=100.396, h=2.8e-01, quad = 527.730\n",
      "[Iter 1000] score=103.498, likelihood=102.364, h=0.0e+00, quad = 699.834\n",
      "[Before thresholding] score=100.817, likelihood=99.591, h=2.4e-01, quad = 480.407\n",
      "[Iter 1500] score=101.997, likelihood=100.891, h=0.0e+00, quad = 604.361\n",
      "[Before thresholding] score=100.405, likelihood=99.263, h=1.2e-01, quad = 467.745\n",
      "[Iter 2000] score=101.100, likelihood=100.046, h=0.0e+00, quad = 555.464\n",
      "[Before thresholding] score=100.215, likelihood=99.137, h=4.9e-02, quad = 471.685\n",
      "[Iter 2500] score=100.593, likelihood=99.579, h=0.0e+00, quad = 530.302\n",
      "[Before thresholding] score=100.139, likelihood=99.084, h=2.2e-02, quad = 480.512\n",
      "[Iter 3000] score=100.376, likelihood=99.377, h=0.0e+00, quad = 519.831\n",
      "[Before thresholding] score=100.112, likelihood=99.065, h=1.4e-02, quad = 484.036\n",
      "[Iter 3500] score=100.254, likelihood=99.254, h=0.0e+00, quad = 513.500\n",
      "[Before thresholding] score=100.097, likelihood=99.057, h=1.1e-02, quad = 485.937\n",
      "[Iter 4000] score=100.186, likelihood=99.184, h=0.0e+00, quad = 509.944\n",
      "[Before thresholding] score=100.095, likelihood=99.056, h=9.7e-03, quad = 486.842\n",
      "[Iter 4500] score=100.178, likelihood=99.174, h=0.0e+00, quad = 509.461\n",
      "[Before thresholding] score=100.095, likelihood=99.055, h=9.5e-03, quad = 486.889\n",
      "[Iter 5000] score=100.177, likelihood=99.174, h=0.0e+00, quad = 509.424\n",
      "[Before thresholding] score=100.096, likelihood=99.055, h=9.5e-03, quad = 486.994\n",
      "[Iter 5500] score=100.178, likelihood=99.174, h=0.0e+00, quad = 509.453\n",
      "[Before thresholding] score=100.095, likelihood=99.056, h=9.5e-03, quad = 486.917\n",
      "[Iter 6000] score=100.178, likelihood=99.174, h=0.0e+00, quad = 509.463\n",
      "[Before thresholding] score=100.095, likelihood=99.055, h=9.6e-03, quad = 486.847\n",
      "[Iter 6500] score=100.178, likelihood=99.174, h=0.0e+00, quad = 509.466\n",
      "[Before thresholding] score=100.095, likelihood=99.055, h=9.5e-03, quad = 486.891\n",
      "[Iter 7000] score=100.178, likelihood=99.174, h=0.0e+00, quad = 509.471\n",
      "[Before thresholding] score=100.095, likelihood=99.055, h=9.6e-03, quad = 486.822\n",
      "[Iter 7500] score=100.178, likelihood=99.174, h=0.0e+00, quad = 509.465\n",
      "[Before thresholding] score=100.095, likelihood=99.055, h=9.5e-03, quad = 486.844\n",
      "[Iter 8000] score=100.178, likelihood=99.174, h=0.0e+00, quad = 509.470\n",
      "[Before thresholding] score=100.095, likelihood=99.055, h=9.6e-03, quad = 486.809\n",
      "[Iter 8500] score=100.178, likelihood=99.174, h=0.0e+00, quad = 509.463\n",
      "[Before thresholding] score=100.095, likelihood=99.055, h=9.5e-03, quad = 486.973\n",
      "[Iter 9000] score=100.178, likelihood=99.175, h=0.0e+00, quad = 509.480\n",
      "[Before thresholding] score=100.095, likelihood=99.055, h=9.6e-03, quad = 486.805\n",
      "[Iter 9500] score=100.178, likelihood=99.174, h=0.0e+00, quad = 509.444\n",
      "[Before thresholding] score=100.095, likelihood=99.055, h=9.6e-03, quad = 486.953\n",
      "[Iter 10000] score=100.178, likelihood=99.174, h=0.0e+00, quad = 509.466\n",
      "3 tensor([[ 0.0000,  0.0000,  0.0000,  0.0000,  0.0000,  0.0000,  0.0000,  0.0000,\n",
      "          0.0000,  0.0000,  0.0000,  0.0000,  0.0000,  0.0000,  0.0000,  0.0000,\n",
      "          0.0000,  0.0000,  0.0000,  0.0000],\n",
      "        [ 0.0000,  0.0000,  0.0000,  0.0000,  0.0000,  0.0000,  0.0000,  0.0000,\n",
      "          0.0000,  1.8842,  0.0000,  0.0000,  0.0000,  0.0000,  0.0000,  0.0000,\n",
      "          0.0000,  0.0000,  0.0000,  0.0000],\n",
      "        [ 0.0000,  0.0000,  0.0000,  0.0000,  0.0000,  0.0000,  0.0000,  0.0000,\n",
      "          0.0000,  0.0000,  0.0000,  0.0000,  0.0000,  0.0000,  0.0000,  0.0000,\n",
      "          0.0000,  0.0000,  0.0000,  0.0000],\n",
      "        [ 0.0000,  0.0000,  0.0000,  0.0000,  0.0000,  0.0000,  0.0000,  0.0000,\n",
      "          0.0000,  0.0000,  0.0000,  0.0000,  0.0000,  0.0000,  0.0000,  0.0000,\n",
      "          0.0000,  0.0000,  0.0000,  0.0000],\n",
      "        [ 0.0000,  0.0000,  0.0000,  0.0000,  0.0000,  0.0000, -0.1921,  0.0000,\n",
      "          0.0000,  0.0000,  0.0000,  0.0000, -0.1576,  0.0000,  0.0000,  0.0000,\n",
      "          0.0000,  0.0000,  0.0000,  0.0000],\n",
      "        [ 0.0000,  0.0000,  0.0000,  0.0000,  0.0000,  0.0000,  0.0000,  0.0000,\n",
      "          0.0000,  0.0000,  0.0000,  1.7978,  0.0000,  0.0000,  0.0000,  0.0000,\n",
      "          0.0000,  0.0000,  0.0000,  0.0000],\n",
      "        [ 0.0000,  0.0000,  0.0000,  0.0000,  0.0000,  0.0000,  0.0000,  0.0000,\n",
      "          0.0000,  0.0000,  0.0000,  0.0000,  0.0000,  0.0000,  0.0000,  0.0000,\n",
      "          0.0000,  0.0000,  0.0000,  0.0000],\n",
      "        [ 0.0000,  0.0000,  1.3587,  0.0000,  0.0000,  0.0000,  0.0000,  0.0000,\n",
      "         -0.3894,  0.0000,  0.0000,  0.0000,  0.0000,  0.0000,  0.0000,  0.0000,\n",
      "          0.0000,  0.0000,  0.0000,  0.0000],\n",
      "        [ 0.0000,  0.0000,  0.0000,  0.0000,  0.0000,  0.0000, -0.1071,  0.0000,\n",
      "          0.0000,  0.5384,  0.0000,  1.9397,  0.0000,  0.0000,  0.0000,  0.0000,\n",
      "          0.0000,  0.0000,  0.0000,  0.0000],\n",
      "        [ 0.0000,  0.0000,  0.0000,  0.0000,  0.0000,  0.0000,  0.0000,  0.0000,\n",
      "          0.0000,  0.0000,  0.0000,  0.0000,  0.0000,  0.0000,  0.0000,  0.0000,\n",
      "          0.0000,  0.0000,  0.0000,  0.0000],\n",
      "        [ 0.0000,  0.0000,  0.0000,  0.0000,  0.0000,  0.0000,  1.2857,  0.0000,\n",
      "          0.0000,  0.0000,  0.0000,  0.0000, -0.1451,  0.0000,  0.0000,  0.0000,\n",
      "          0.0000, -0.2193,  0.0000,  0.0000],\n",
      "        [ 0.0000,  0.0000,  0.0000,  0.0000,  0.0000,  0.0000,  0.0000,  0.0000,\n",
      "          0.0000,  0.0000,  0.0000,  0.0000,  0.0000,  0.0000,  0.0000,  0.0000,\n",
      "          0.0000,  0.0000,  0.0000,  0.0000],\n",
      "        [ 0.0000,  0.0000,  0.0000,  0.0000,  0.0000,  0.0000,  0.0000,  0.0000,\n",
      "          0.0000,  0.0000,  0.0000,  0.0000,  0.0000,  0.0000,  0.0000,  0.0000,\n",
      "          0.0000,  0.0000,  0.0000,  0.0000],\n",
      "        [ 0.0000,  0.0000,  0.4999,  0.0000,  0.0000,  0.0000,  0.0000,  0.0000,\n",
      "          0.0000,  0.0000,  0.0000,  0.0000,  0.0000,  0.0000,  0.0000,  0.0000,\n",
      "          0.0000,  0.0000,  0.0000,  0.0000],\n",
      "        [ 0.0000,  0.0000,  0.0000,  0.0000,  0.0000,  0.0000,  0.0000,  0.0000,\n",
      "          0.0000,  0.0000,  0.0000,  0.0000,  0.0000, -0.1812,  0.0000,  0.0000,\n",
      "          0.0000,  0.0000,  1.4734,  0.0000],\n",
      "        [ 0.0000,  0.0000,  0.0000,  0.0000,  0.0000,  0.0000,  0.6766,  0.0000,\n",
      "          0.0000,  0.0000,  0.0000,  0.0000,  0.0000,  0.0000,  1.7467,  0.0000,\n",
      "          0.0000,  0.0000,  0.0000,  0.0000],\n",
      "        [ 0.0000,  0.0000,  0.0000,  0.0000,  0.0000,  0.0000,  0.0000,  0.0000,\n",
      "          0.0000,  0.0000,  0.0000,  0.0000,  0.0000,  0.6887,  0.0000,  0.0000,\n",
      "          0.0000,  0.0000,  0.0000,  0.0000],\n",
      "        [ 0.0000,  0.0000,  0.0000,  0.0000,  0.0000,  0.0000,  0.0000,  0.0000,\n",
      "          0.0000,  0.0000,  0.0000,  1.1363,  0.0000,  0.0000,  0.0000,  0.0000,\n",
      "          0.0000,  0.0000,  0.0000,  0.0000],\n",
      "        [ 0.0000,  0.0000, -0.2364,  0.0000,  0.0000,  0.0000,  0.0000,  0.0000,\n",
      "          0.0000,  0.0000,  0.0000,  0.0000,  0.0000,  0.0000,  0.0000,  0.0000,\n",
      "          0.0000,  0.0000,  0.0000,  0.0000],\n",
      "        [ 0.0000,  0.0000,  0.0000,  0.0000,  0.0000,  0.0000,  0.0000,  1.4671,\n",
      "          0.0000,  0.0000,  0.0000,  0.0000,  0.0000,  0.0000,  0.0000,  0.0000,\n",
      "          0.3916,  1.0935,  0.0000,  0.0000]])\n",
      "[Iter 10000] score=100.226, likelihood=99.246, h=0.0e+00, quad = 513.092\n"
     ]
    }
   ],
   "source": [
    "time_start = time.time()\n",
    "g.learn(X)\n",
    "time_end = time.time()"
   ]
  },
  {
   "cell_type": "code",
   "execution_count": 55,
   "id": "9727ac8e",
   "metadata": {},
   "outputs": [
    {
     "name": "stdout",
     "output_type": "stream",
     "text": [
      "Started training for 10000 iterations.\n",
      "[Iter 0] score=111.400, likelihood=111.400, h=0.0e+00\n",
      "[Iter 5000] score=99.457, likelihood=99.003, h=5.5e-04\n",
      "[Iter 10000] score=99.457, likelihood=99.003, h=5.5e-04\n",
      "3 tensor([[ 0.0000,  0.0000,  0.0000,  0.0000,  0.0000,  0.0000,  0.0000,  0.0000,\n",
      "          0.0000,  0.0000,  0.0000,  0.0000,  0.0000,  0.0000,  0.0000,  0.0000,\n",
      "          0.0000,  0.0000,  0.0000,  0.0000],\n",
      "        [ 0.0000,  0.0000,  0.0000,  0.0000,  0.0000,  0.0000,  0.0000,  0.0000,\n",
      "          0.0000,  1.9265,  0.0000,  0.0000,  0.0000,  0.0000,  0.0000,  0.0000,\n",
      "          0.0000,  0.0000,  0.0000,  0.0000],\n",
      "        [ 0.0000,  0.0000,  0.0000,  0.0000,  0.0000,  0.0000,  0.0000,  0.0000,\n",
      "          0.0000,  0.0000,  0.0000,  0.0000,  0.0000,  0.0000,  0.0000,  0.0000,\n",
      "          0.0000,  0.0000,  0.0000,  0.0000],\n",
      "        [ 0.0000,  0.0000,  0.0000,  0.0000,  0.0000,  0.0000,  0.0000,  0.0000,\n",
      "          0.0000,  0.0000,  0.0000,  0.0000,  0.0000,  0.0000,  0.0000,  0.0000,\n",
      "          0.0000,  0.0000,  0.0000,  0.0000],\n",
      "        [ 0.0000,  0.0000,  0.0000,  0.0000,  0.0000,  0.0000,  0.0000,  0.0000,\n",
      "          0.0000,  0.0000,  0.0000,  0.0000,  0.0000,  0.0000,  0.0000,  0.0000,\n",
      "          0.0000,  0.0000,  0.0000,  0.0000],\n",
      "        [ 0.0000,  0.0000,  0.0000,  0.0000,  0.0000,  0.0000,  0.0000,  0.0000,\n",
      "          0.0000,  0.0000,  0.0000,  1.8370,  0.0000,  0.0000,  0.0000,  0.0000,\n",
      "          0.0000,  0.0000,  0.0000,  0.0000],\n",
      "        [ 0.0000,  0.0000,  0.0000,  0.0000,  0.0000,  0.0000,  0.0000,  0.0000,\n",
      "          0.0000,  0.0000,  0.0000,  0.0000,  0.0000,  0.0000,  0.0000,  0.0000,\n",
      "          0.0000,  0.0000,  0.0000,  0.0000],\n",
      "        [ 0.0000,  0.0000,  1.3697,  0.0000,  0.0000,  0.0000,  0.0000,  0.0000,\n",
      "         -0.4168,  0.0000,  0.0000,  0.0000,  0.0000,  0.0000,  0.0000,  0.0000,\n",
      "          0.0000,  0.0000,  0.0000,  0.0000],\n",
      "        [ 0.0000,  0.0000,  0.0000,  0.0000,  0.0000,  0.0000,  0.0000,  0.0000,\n",
      "          0.0000,  0.5480,  0.0000,  1.9783,  0.0000,  0.0000,  0.0000,  0.0000,\n",
      "          0.0000,  0.0000,  0.0000,  0.0000],\n",
      "        [ 0.0000,  0.0000,  0.0000,  0.0000,  0.0000,  0.0000,  0.0000,  0.0000,\n",
      "          0.0000,  0.0000,  0.0000,  0.0000,  0.0000,  0.0000,  0.0000,  0.0000,\n",
      "          0.0000,  0.0000,  0.0000,  0.0000],\n",
      "        [ 0.0000,  0.0000,  0.0000,  0.0000,  0.0000,  0.0000,  1.3196,  0.0000,\n",
      "          0.0000,  0.0000,  0.0000,  0.0000,  0.0000,  0.0000,  0.0000,  0.0000,\n",
      "          0.0000,  0.0000,  0.0000,  0.0000],\n",
      "        [ 0.0000,  0.0000,  0.0000,  0.0000,  0.0000,  0.0000,  0.0000,  0.0000,\n",
      "          0.0000,  0.0000,  0.0000,  0.0000,  0.0000,  0.0000,  0.0000,  0.0000,\n",
      "          0.0000,  0.0000,  0.0000,  0.0000],\n",
      "        [ 0.0000,  0.0000,  0.0000,  0.0000,  0.0000,  0.0000,  0.0000,  0.0000,\n",
      "          0.0000,  0.0000,  0.0000,  0.0000,  0.0000,  0.0000,  0.0000,  0.0000,\n",
      "          0.0000,  0.0000,  0.0000,  0.0000],\n",
      "        [ 0.0000,  0.0000,  0.5347,  0.0000,  0.0000,  0.0000,  0.0000,  0.0000,\n",
      "          0.0000,  0.0000,  0.0000,  0.0000,  0.0000,  0.0000,  0.0000,  0.0000,\n",
      "          0.0000,  0.0000,  0.0000,  0.0000],\n",
      "        [ 0.0000,  0.0000,  0.0000,  0.0000,  0.0000,  0.0000,  0.0000,  0.0000,\n",
      "          0.0000,  0.0000,  0.0000,  0.0000,  0.0000,  0.0000,  0.0000,  0.0000,\n",
      "          0.0000,  0.0000,  1.4886,  0.0000],\n",
      "        [ 0.0000,  0.0000,  0.0000,  0.0000,  0.0000,  0.0000,  0.7282,  0.0000,\n",
      "          0.0000,  0.0000,  0.0000,  0.0000,  0.0000,  0.0000,  1.8763,  0.0000,\n",
      "          0.0000,  0.0000,  0.0000,  0.0000],\n",
      "        [ 0.0000,  0.0000,  0.0000,  0.0000,  0.0000,  0.0000,  0.0000,  0.0000,\n",
      "          0.0000,  0.0000,  0.0000,  0.0000,  0.0000,  0.7532,  0.0000,  0.0000,\n",
      "          0.0000,  0.0000,  0.0000,  0.0000],\n",
      "        [ 0.0000,  0.0000,  0.0000,  0.0000,  0.0000,  0.0000,  0.0000,  0.0000,\n",
      "          0.0000,  0.0000,  0.0000,  1.1607,  0.0000,  0.0000,  0.0000,  0.0000,\n",
      "          0.0000,  0.0000,  0.0000,  0.0000],\n",
      "        [ 0.0000,  0.0000,  0.0000,  0.0000,  0.0000,  0.0000,  0.0000,  0.0000,\n",
      "          0.0000,  0.0000,  0.0000,  0.0000,  0.0000,  0.0000,  0.0000,  0.0000,\n",
      "          0.0000,  0.0000,  0.0000,  0.0000],\n",
      "        [ 0.0000,  0.0000,  0.0000,  0.0000,  0.0000,  0.0000,  0.0000,  1.5829,\n",
      "          0.0000,  0.0000,  0.0000,  0.0000,  0.0000,  0.0000,  0.0000,  0.0000,\n",
      "          0.4804,  1.1571,  0.0000,  0.0000]])\n",
      "[Iter 10000] score=100.115, likelihood=99.731, h=0.0e+00\n"
     ]
    }
   ],
   "source": [
    "t_start = time.time()\n",
    "g1.learn(X)\n",
    "t_end = time.time()"
   ]
  },
  {
   "cell_type": "code",
   "execution_count": 56,
   "id": "894fa135",
   "metadata": {},
   "outputs": [
    {
     "data": {
      "text/plain": [
       "(18.52911400794983, 15.55009150505066)"
      ]
     },
     "execution_count": 56,
     "metadata": {},
     "output_type": "execute_result"
    }
   ],
   "source": [
    "t_end - t_start, time_end - time_start"
   ]
  },
  {
   "cell_type": "code",
   "execution_count": 59,
   "id": "efa220fc",
   "metadata": {},
   "outputs": [
    {
     "name": "stdout",
     "output_type": "stream",
     "text": [
      "{'fdr': 0.0, 'tpr': 0.8519, 'fpr': 0.0, 'shd': 4, 'nnz': 23, 'precision': 1.0, 'recall': 0.8519, 'F1': 0.92, 'gscore': 0.8519}\n"
     ]
    }
   ],
   "source": [
    "met = MetricsDAG((g.causal_matrix!=0).astype(int), (true_dag!=0).astype(int))\n",
    "print(met.metrics)"
   ]
  },
  {
   "cell_type": "code",
   "execution_count": 60,
   "id": "0f82d08b",
   "metadata": {},
   "outputs": [
    {
     "name": "stdout",
     "output_type": "stream",
     "text": [
      "{'fdr': 0.0, 'tpr': 0.5926, 'fpr': 0.0, 'shd': 11, 'nnz': 16, 'precision': 1.0, 'recall': 0.5926, 'F1': 0.7442, 'gscore': 0.5926}\n"
     ]
    }
   ],
   "source": [
    "met = MetricsDAG((g1.causal_matrix!=0).astype(int), (true_dag!=0).astype(int))\n",
    "print(met.metrics)"
   ]
  },
  {
   "cell_type": "code",
   "execution_count": 61,
   "id": "681cfcf4",
   "metadata": {},
   "outputs": [
    {
     "data": {
      "image/png": "[encoded data removed]",
      "text/plain": [
       "<Figure size 576x216 with 4 Axes>"
      ]
     },
     "metadata": {
      "needs_background": "light"
     },
     "output_type": "display_data"
    },
    {
     "data": {
      "text/plain": [
       "<golem_utils.plot_dag.GraphDAG at 0x7f313c39b430>"
      ]
     },
     "execution_count": 61,
     "metadata": {},
     "output_type": "execute_result"
    }
   ],
   "source": [
    "GraphDAG(g.causal_matrix, true_dag)"
   ]
  },
  {
   "cell_type": "code",
   "execution_count": 62,
   "id": "15e22319",
   "metadata": {},
   "outputs": [
    {
     "data": {
      "image/png": "[encoded data removed]",
      "text/plain": [
       "<Figure size 576x216 with 4 Axes>"
      ]
     },
     "metadata": {
      "needs_background": "light"
     },
     "output_type": "display_data"
    },
    {
     "data": {
      "text/plain": [
       "<golem_utils.plot_dag.GraphDAG at 0x7f3158a36850>"
      ]
     },
     "execution_count": 62,
     "metadata": {},
     "output_type": "execute_result"
    }
   ],
   "source": [
    "GraphDAG(g1.causal_matrix, true_dag)"
   ]
  },
  {
   "cell_type": "code",
   "execution_count": 46,
   "id": "8282a419",
   "metadata": {},
   "outputs": [],
   "source": [
    "d_e2 = [10,50,80,120]\n",
    "shd_ours2 = [3,17,21,34]\n",
    "shd_golem2 = [6,33,32,63]\n",
    "tpr_ours2 = [0.7857,0.7333,0.7907,0.7634]\n",
    "tpr_golem2 = [0.5714, 0.45,0.6279,0.5191]\n",
    "fpr_ours2 = []\n",
    "fpr_golem2 = []\n",
    "t_ours2 = [ 8.57,22.24,38.65,83.02]\n",
    "t_golem2 = [10.08,28.15,34.59,45.98]\n"
   ]
  },
  {
   "cell_type": "code",
   "execution_count": 47,
   "id": "cb418ed5",
   "metadata": {},
   "outputs": [
    {
     "data": {
      "image/png": "[encoded data removed]",
      "text/plain": [
       "<Figure size 432x288 with 1 Axes>"
      ]
     },
     "metadata": {
      "needs_background": "light"
     },
     "output_type": "display_data"
    }
   ],
   "source": [
    "import matplotlib.pyplot as plt\n",
    "\n",
    "plt.plot(d_e2,shd_ours2,'o--',label = 'Ours')\n",
    "plt.plot(d_e2, shd_golem2,\"v--\", label = 'Golem')\n",
    "plt.ylabel(\"SHD\")\n",
    "plt.xlabel('d(number of nodes)')\n",
    "\n",
    "plt.legend()\n",
    "plt.tight_layout()\n",
    "plt.savefig(\"img/gauss_er2.pdf\")\n",
    "plt.show()"
   ]
  },
  {
   "cell_type": "code",
   "execution_count": 48,
   "id": "cb61a476",
   "metadata": {},
   "outputs": [
    {
     "data": {
      "image/png": "[encoded data removed]",
      "text/plain": [
       "<Figure size 432x288 with 1 Axes>"
      ]
     },
     "metadata": {
      "needs_background": "light"
     },
     "output_type": "display_data"
    }
   ],
   "source": [
    "plt.plot(d_e2,tpr_ours2,'o--',label = 'Ours')\n",
    "plt.plot(d_e2, tpr_golem2,\"v--\", label = 'Golem')\n",
    "plt.ylabel(\"TPR\")\n",
    "plt.xlabel('d(number of nodes)')\n",
    "plt.legend()\n",
    "plt.tight_layout()\n",
    "plt.savefig(\"img/gauss_er2_tpr.pdf\")\n",
    "plt.show()"
   ]
  },
  {
   "cell_type": "code",
   "execution_count": 49,
   "id": "6305698e",
   "metadata": {},
   "outputs": [
    {
     "data": {
      "image/png": "[encoded data removed]",
      "text/plain": [
       "<Figure size 432x288 with 1 Axes>"
      ]
     },
     "metadata": {
      "needs_background": "light"
     },
     "output_type": "display_data"
    }
   ],
   "source": [
    "plt.plot(d_e2,t_ours2,'o--',label = 'Ours')\n",
    "plt.plot(d_e2, t_golem2,\"v--\", label = 'Golem')\n",
    "plt.ylabel(\"Runtime(seconds)\")\n",
    "plt.xlabel('d(number of nodes)')\n",
    "plt.legend()\n",
    "plt.tight_layout()\n",
    "plt.savefig(\"img/gauss_er2_t.pdf\")\n",
    "plt.show()"
   ]
  },
  {
   "cell_type": "markdown",
   "id": "54bc037a",
   "metadata": {},
   "source": [
    "# ER4"
   ]
  },
  {
   "cell_type": "code",
   "execution_count": 258,
   "id": "026f4263",
   "metadata": {},
   "outputs": [],
   "source": [
    "d_e = [10,20,30,50,70,100,150]\n",
    "shd_ours = [12,24,23,52,62,76,72]\n",
    "shd_golem = [19,22,31,52,57,93,119]\n",
    "tpr_ours = [0.5,0.8039,0.7879,0.8288,0.7329,0.7256,0.7803]\n",
    "tpr_golem = [0.208,0.5686, 0.5303,0.5315, 0.6096,0.5674,0.6098]\n",
    "fpr_ours = [0.2381,0.1367,0.0298, 0.0323,0.0132,0.0049,0.0009]\n",
    "fpr_golem= [0.0,0.0,0.0,0.0]\n",
    "t_ours = [ 8.679,17.276,20.617,26.637,41.579,126.101,720.680]\n",
    "t_golem = [10.126,19.414,24.079,34.707,42.643,45.231,563.69]\n",
    "norm_ours = [0.6327,2.474,2.1233]\n",
    "norm_golem = [0.7609,1.3405,1.2580]"
   ]
  },
  {
   "cell_type": "code",
   "execution_count": 289,
   "id": "2a365f28",
   "metadata": {},
   "outputs": [],
   "source": [
    "d_e = [10,20,30,50, 70,100,150]\n",
    "shd_ours_sf = [4,10,15,18,34, 66,125]\n",
    "shd_golem_sf = [8,10,29,33,39,89,243]\n",
    "tpr_ours_sf = [0.7647,0.8378,0.7368,0.8351,0.9051,0.8071,0.5892]\n",
    "tpr_golem_sf = [ 0.5294,0.7297,0.4912,0.6598,0.7153, 0.5533,0.1818]\n",
    "fpr_ours_sf = [0.1071,0.0327, 0.0026,0.0018, 0.0097,0.0063,0.0013]\n",
    "fpr_golem_sf = [0.0,0.0,0.0,0.0,0.0006,0.0,0.0]\n",
    "t_ours_sf = [ 9.237,17.949,20.429,25.604,71.883,134.664,390.54]\n",
    "t_golem_sf = [10.901,20.49,24.074,31.165, 76.857,108.124,873.208]"
   ]
  },
  {
   "cell_type": "code",
   "execution_count": 315,
   "id": "938d8dc9",
   "metadata": {},
   "outputs": [],
   "source": [
    "d_exp = [10,20,30,50, 70,100,150]\n",
    "shd_ours_exp = [9,31,33,52,79,86,88]\n",
    "shd_golem_exp= [9,26,32,54,59,96,119]\n",
    "tpr_ours_exp = [0.75,0.6275,0.6061,0.7297,0.7603,0.7256,0.777]\n",
    "tpr_golem_exp = [0.625,0.5098,0.5152,0.5135,0.5959,0.5535,0.6098]\n",
    "fpr_ours_exp = [ 0.1429,0.1295,0.0298,0.0242,0.0238,0.0078,0.0027]\n",
    "fpr_golem_exp= [0.0,0.0072,0.0,0.0,0.0004,0.0002,0.0002]\n",
    "t_ours_exp = [10.51,17.292,21.12,28.98,51.39,88.60,572.89]\n",
    "t_golem_exp = [12.23,19.78,22.76,34.41,36.50,47.88,448.01]\n"
   ]
  },
  {
   "cell_type": "code",
   "execution_count": 316,
   "id": "f20d710d",
   "metadata": {},
   "outputs": [],
   "source": [
    "d_exp = [10,20,30,50, 70,100,150]\n",
    "shd_ours_exp_sf = [19,16,23,25,32,78,82]\n",
    "shd_golem_exp_sf= [12,12,29,34,39,88,125]\n",
    "tpr_ours_exp_sf= [0.5294,0.7838,0.6491,0.7938,0.8905,0.7919,0.8013]\n",
    "tpr_golem_exp_sf = [0.3529,0.6757,0.4912,0.6495,0.7153,0.5533,0.5791]\n",
    "fpr_ours_exp_sf = [0.4286,0.0654,0.0185,0.0062,0.0075,0.0082,0.0034]\n",
    "fpr_golem_exp_sf = [0.0357,0.0,0.0,0.0,0.0,0.0, 0.0004]\n",
    "t_ours_exp_sf = [10.440,17.83,20.67,29.13,41.80,76.76,484.07]\n",
    "t_golem_exp_sf = [12.24,19.63,23.92,31.21,36.28,45.03,344.37]\n"
   ]
  },
  {
   "cell_type": "code",
   "execution_count": 317,
   "id": "671b96f0",
   "metadata": {},
   "outputs": [],
   "source": [
    "d_e = [10,20,30,50, 70,100,150]\n",
    "shd_ours_gl = [7,31,26,50,73,69,79]\n",
    "shd_golem_gl = [9,26,28,54,57,97,119]\n",
    "tpr_ours_gl = [0.708,0.6667,0.6515,0.7117,0.7397,0.7256,0.777]\n",
    "tpr_golem_gl = [  0.625,0.5098,0.5758,0.5135,0.6096,0.5488,0.6098]\n",
    "fpr_ours_gl = [0.0,0.1439,0.0136,0.0215,0.0203, 0.003, 0.0018]\n",
    "fpr_golem_gl = [0.0,0.0072,0.0, 0.0009,0.0,0.0002,0.0]\n",
    "t_ours_gl = [8.95,17.31,20.91,28.51,45.59,82.79,474.05]\n",
    "t_golem_gl = [10.58,19.54,22.07,32.46,36.81,46.582,315.88]\n"
   ]
  },
  {
   "cell_type": "code",
   "execution_count": 318,
   "id": "f6a4f139",
   "metadata": {},
   "outputs": [],
   "source": [
    "d_e = [10,20,30,50, 70,100,150]\n",
    "shd_ours_gl_sf = [8,11,18,19,18,64,55]\n",
    "shd_golem_gl_sf = [9,13,29,34,41,88,121]\n",
    "tpr_ours_gl_sf = [0.6471,0.8108,0.7018,0.8351,0.9051,0.8173,0.8249]\n",
    "tpr_golem_gl_sf = [0.4706,  0.6486,0.4912,0.6495,0.7007,0.5533,0.596]\n",
    "fpr_ours_gl_sf = [0.1071,0.0392,0.0053,0.0027,0.0022, 0.0065, 0.0006]\n",
    "fpr_golem_gl_sf = [0.0,0.0,0.0,0.0,0.0004,0.0002,0.0006]\n",
    "t_ours_gl_sf = [9.24,17.78,20.19,26.97,39.46,74.50,456]\n",
    "t_golem_gl_sf = [10.62,19.85,22.54,32.33,39.73,50.70,361.8]\n",
    "\n",
    "\n"
   ]
  },
  {
   "cell_type": "code",
   "execution_count": 320,
   "id": "1e19caa1",
   "metadata": {},
   "outputs": [
    {
     "data": {
      "text/plain": [
       "array([ 9.83333333, 20.5       , 23.        , 36.        , 49.66666667,\n",
       "       73.16666667, 83.5       ])"
      ]
     },
     "execution_count": 320,
     "metadata": {},
     "output_type": "execute_result"
    }
   ],
   "source": [
    "(np.array(shd_ours_sf) + np.array(shd_ours)+ np.array(shd_ours_exp)+ np.array(shd_ours_exp_sf)+ np.array(shd_ours_gl)+ np.array(shd_ours_gl_sf))/6"
   ]
  },
  {
   "cell_type": "code",
   "execution_count": 321,
   "id": "01515e41",
   "metadata": {},
   "outputs": [
    {
     "data": {
      "text/plain": [
       "array([0.64986667, 0.75508333, 0.68886667, 0.78903333, 0.82226667,\n",
       "       0.76551667, 0.75828333])"
      ]
     },
     "execution_count": 321,
     "metadata": {},
     "output_type": "execute_result"
    }
   ],
   "source": [
    "(np.array(tpr_ours_sf) + np.array(tpr_ours)+ np.array(tpr_ours_exp)+ np.array(tpr_ours_exp_sf)+ np.array(tpr_ours_gl)+ np.array(tpr_ours_gl_sf))/6"
   ]
  },
  {
   "cell_type": "code",
   "execution_count": 322,
   "id": "97989da9",
   "metadata": {},
   "outputs": [
    {
     "data": {
      "text/plain": [
       "array([  9.50933333,  17.57283333,  20.656     ,  27.6385    ,\n",
       "        48.617     ,  97.23583333, 516.37166667])"
      ]
     },
     "execution_count": 322,
     "metadata": {},
     "output_type": "execute_result"
    }
   ],
   "source": [
    "(np.array(t_ours_sf) + np.array(t_ours)+ np.array(t_ours_exp)+ np.array(t_ours_exp_sf)+ np.array(t_ours_gl)+ np.array(t_ours_gl_sf))/6"
   ]
  },
  {
   "cell_type": "code",
   "execution_count": 323,
   "id": "f92c738b",
   "metadata": {},
   "outputs": [
    {
     "data": {
      "text/plain": [
       "array([ 11.11616667,  19.784     ,  23.2405    ,  32.71366667,\n",
       "        44.80333333,  57.25783333, 484.493     ])"
      ]
     },
     "execution_count": 323,
     "metadata": {},
     "output_type": "execute_result"
    }
   ],
   "source": [
    "(np.array(t_golem_sf) + np.array(t_golem)+ np.array(t_golem_exp)+ np.array(t_golem_exp_sf)+ np.array(t_golem_gl)+ np.array(t_golem_gl_sf))/6"
   ]
  },
  {
   "cell_type": "code",
   "execution_count": 324,
   "id": "d30965ef",
   "metadata": {},
   "outputs": [
    {
     "data": {
      "text/plain": [
       "array([0.46848333, 0.60703333, 0.51581667, 0.58621667, 0.65773333,\n",
       "       0.55493333, 0.53105   ])"
      ]
     },
     "execution_count": 324,
     "metadata": {},
     "output_type": "execute_result"
    }
   ],
   "source": [
    "(np.array(tpr_golem_sf) + np.array(tpr_golem)+ np.array(tpr_golem_exp)+ np.array(tpr_golem_exp_sf)+ np.array(tpr_golem_gl)+ np.array(tpr_golem_gl_sf))/6"
   ]
  },
  {
   "cell_type": "code",
   "execution_count": 325,
   "id": "556f40e5",
   "metadata": {},
   "outputs": [
    {
     "data": {
      "text/plain": [
       "array([ 11.        ,  18.16666667,  29.66666667,  43.5       ,\n",
       "        48.66666667,  91.83333333, 141.        ])"
      ]
     },
     "execution_count": 325,
     "metadata": {},
     "output_type": "execute_result"
    }
   ],
   "source": [
    "(np.array(shd_golem_sf) + np.array(shd_golem)+ np.array(shd_golem_exp)+ np.array(shd_golem_exp_sf)+ np.array(shd_golem_gl)+ np.array(shd_golem_gl_sf))/6"
   ]
  },
  {
   "cell_type": "code",
   "execution_count": 307,
   "id": "02897761",
   "metadata": {},
   "outputs": [
    {
     "data": {
      "image/png": "[encoded data removed]",
      "text/plain": [
       "<Figure size 432x288 with 1 Axes>"
      ]
     },
     "metadata": {
      "needs_background": "light"
     },
     "output_type": "display_data"
    }
   ],
   "source": [
    "import matplotlib.pyplot as plt\n",
    "#title = plt.title('ER4')\n",
    "plt.plot(d_e,shd_ours,'o--',label = 'Ours')\n",
    "plt.plot(d_e, shd_golem,\"v--\", label = 'Golem')\n",
    "plt.ylabel(\"SHD\")\n",
    "plt.xlabel('d(number of nodes)')\n",
    "\n",
    "plt.legend()\n",
    "plt.tight_layout()\n",
    "plt.savefig(\"img/gauss_er.pdf\")\n",
    "plt.show()"
   ]
  },
  {
   "cell_type": "code",
   "execution_count": 308,
   "id": "06c18641",
   "metadata": {},
   "outputs": [
    {
     "data": {
      "image/png": "[encoded data removed]",
      "text/plain": [
       "<Figure size 432x288 with 1 Axes>"
      ]
     },
     "metadata": {
      "needs_background": "light"
     },
     "output_type": "display_data"
    }
   ],
   "source": [
    "plt.plot(d_e,shd_ours_sf,'o--',label = 'Ours')\n",
    "plt.plot(d_e, shd_golem_sf,\"v--\", label = 'Golem')\n",
    "plt.ylabel(\"SHD\")\n",
    "plt.xlabel('d(number of nodes)')\n",
    "plt.legend()\n",
    "plt.tight_layout()\n",
    "plt.savefig(\"img/gauss_sf.pdf\")\n",
    "plt.show()"
   ]
  },
  {
   "cell_type": "code",
   "execution_count": 309,
   "id": "02cb5700",
   "metadata": {},
   "outputs": [
    {
     "data": {
      "image/png": "[encoded data removed]",
      "text/plain": [
       "<Figure size 432x288 with 1 Axes>"
      ]
     },
     "metadata": {
      "needs_background": "light"
     },
     "output_type": "display_data"
    }
   ],
   "source": [
    "plt.plot(d_e,tpr_ours,'o--',label = 'Ours')\n",
    "plt.plot(d_e, tpr_golem,\"v--\", label = 'Golem')\n",
    "plt.ylabel(\"TPR\")\n",
    "plt.xlabel('d(number of nodes)')\n",
    "plt.legend()\n",
    "plt.tight_layout()\n",
    "plt.savefig(\"img/gauss_er_tpr.pdf\")\n",
    "plt.show()"
   ]
  },
  {
   "cell_type": "code",
   "execution_count": 310,
   "id": "e8b58a84",
   "metadata": {},
   "outputs": [
    {
     "data": {
      "image/png": "[encoded data removed]",
      "text/plain": [
       "<Figure size 432x288 with 1 Axes>"
      ]
     },
     "metadata": {
      "needs_background": "light"
     },
     "output_type": "display_data"
    }
   ],
   "source": [
    "plt.plot(d_e,tpr_ours_sf,'o--',label = 'Ours')\n",
    "plt.plot(d_e, tpr_golem_sf,\"v--\", label = 'Golem')\n",
    "plt.ylabel(\"TPR\")\n",
    "plt.xlabel('d(number of nodes)')\n",
    "plt.legend()\n",
    "plt.tight_layout()\n",
    "plt.savefig(\"img/gauss_sf_tpr.pdf\")\n",
    "plt.show()"
   ]
  },
  {
   "cell_type": "code",
   "execution_count": 311,
   "id": "d342288d",
   "metadata": {},
   "outputs": [
    {
     "data": {
      "image/png": "[encoded data removed]",
      "text/plain": [
       "<Figure size 432x288 with 1 Axes>"
      ]
     },
     "metadata": {
      "needs_background": "light"
     },
     "output_type": "display_data"
    }
   ],
   "source": [
    "plt.plot(d_e,t_ours,'o--',label = 'Ours')\n",
    "plt.plot(d_e, t_golem,\"v--\", label = 'Golem')\n",
    "plt.ylabel(\"Runtime(seconds)\")\n",
    "plt.xlabel('d(number of nodes)')\n",
    "plt.legend()\n",
    "plt.tight_layout()\n",
    "plt.savefig(\"img/gauss_er_t.pdf\")\n",
    "plt.show()"
   ]
  },
  {
   "cell_type": "code",
   "execution_count": 312,
   "id": "680fb302",
   "metadata": {},
   "outputs": [
    {
     "data": {
      "image/png": "[encoded data removed]",
      "text/plain": [
       "<Figure size 432x288 with 1 Axes>"
      ]
     },
     "metadata": {
      "needs_background": "light"
     },
     "output_type": "display_data"
    }
   ],
   "source": [
    "plt.plot(d_e,t_ours_sf,'o--',label = 'Ours')\n",
    "plt.plot(d_e, t_golem_sf,\"v--\", label = 'Golem')\n",
    "plt.ylabel(\"Runtime(seconds)\")\n",
    "plt.xlabel('d(number of nodes)')\n",
    "plt.legend()\n",
    "plt.tight_layout()\n",
    "plt.savefig(\"img/gauss_sf_t.pdf\")\n",
    "plt.show()"
   ]
  },
  {
   "cell_type": "code",
   "execution_count": null,
   "id": "67d762b0",
   "metadata": {},
   "outputs": [],
   "source": []
  }
 ],
 "metadata": {
  "kernelspec": {
   "display_name": "OCM",
   "language": "python",
   "name": "ocm"
  },
  "language_info": {
   "codemirror_mode": {
    "name": "ipython",
    "version": 3
   },
   "file_extension": ".py",
   "mimetype": "text/x-python",
   "name": "python",
   "nbconvert_exporter": "python",
   "pygments_lexer": "ipython3",
   "version": "3.9.7"
  }
 },
 "nbformat": 4,
 "nbformat_minor": 5
}
